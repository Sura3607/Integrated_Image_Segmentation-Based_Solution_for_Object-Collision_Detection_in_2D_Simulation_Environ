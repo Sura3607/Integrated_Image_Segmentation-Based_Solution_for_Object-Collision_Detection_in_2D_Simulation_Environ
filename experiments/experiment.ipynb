{
  "nbformat": 4,
  "nbformat_minor": 0,
  "metadata": {
    "colab": {
      "provenance": [],
      "toc_visible": true,
      "authorship_tag": "ABX9TyMkOk0bFv1bKhgkFGDdaJ1m",
      "include_colab_link": true
    },
    "kernelspec": {
      "name": "python3",
      "display_name": "Python 3"
    },
    "language_info": {
      "name": "python"
    }
  },
  "cells": [
    {
      "cell_type": "markdown",
      "metadata": {
        "id": "view-in-github",
        "colab_type": "text"
      },
      "source": [
        "<a href=\"https://colab.research.google.com/github/Sura3607/object-collision/blob/main/experiments/experiment.ipynb\" target=\"_parent\"><img src=\"https://colab.research.google.com/assets/colab-badge.svg\" alt=\"Open In Colab\"/></a>"
      ]
    },
    {
      "cell_type": "code",
      "execution_count": 1,
      "metadata": {
        "id": "mpwd5xht9pUR"
      },
      "outputs": [],
      "source": [
        "%%capture\n",
        "!git clone https://github.com/Sura3607/object-collision.git"
      ]
    },
    {
      "cell_type": "code",
      "source": [
        "import os\n",
        "os.chdir('object-collision')"
      ],
      "metadata": {
        "id": "SJeXoPiu-3dx"
      },
      "execution_count": 2,
      "outputs": []
    },
    {
      "cell_type": "code",
      "source": [
        "!pip3 install -r requirements.txt"
      ],
      "metadata": {
        "colab": {
          "base_uri": "https://localhost:8080/"
        },
        "id": "ZlnplSUf06da",
        "outputId": "ef0877b2-b25a-43f4-c742-5676652b16c3"
      },
      "execution_count": 3,
      "outputs": [
        {
          "output_type": "stream",
          "name": "stdout",
          "text": [
            "Requirement already satisfied: opencv-python in /usr/local/lib/python3.11/dist-packages (from -r requirements.txt (line 1)) (4.10.0.84)\n",
            "Requirement already satisfied: numpy in /usr/local/lib/python3.11/dist-packages (from -r requirements.txt (line 2)) (1.26.4)\n",
            "Requirement already satisfied: scikit-image in /usr/local/lib/python3.11/dist-packages (from -r requirements.txt (line 3)) (0.25.0)\n",
            "Requirement already satisfied: matplotlib in /usr/local/lib/python3.11/dist-packages (from -r requirements.txt (line 4)) (3.10.0)\n",
            "Collecting pytictoc (from -r requirements.txt (line 5))\n",
            "  Downloading pytictoc-1.5.3-py2.py3-none-any.whl.metadata (2.9 kB)\n",
            "Requirement already satisfied: scipy>=1.11.2 in /usr/local/lib/python3.11/dist-packages (from scikit-image->-r requirements.txt (line 3)) (1.13.1)\n",
            "Requirement already satisfied: networkx>=3.0 in /usr/local/lib/python3.11/dist-packages (from scikit-image->-r requirements.txt (line 3)) (3.4.2)\n",
            "Requirement already satisfied: pillow>=10.1 in /usr/local/lib/python3.11/dist-packages (from scikit-image->-r requirements.txt (line 3)) (11.1.0)\n",
            "Requirement already satisfied: imageio!=2.35.0,>=2.33 in /usr/local/lib/python3.11/dist-packages (from scikit-image->-r requirements.txt (line 3)) (2.36.1)\n",
            "Requirement already satisfied: tifffile>=2022.8.12 in /usr/local/lib/python3.11/dist-packages (from scikit-image->-r requirements.txt (line 3)) (2024.12.12)\n",
            "Requirement already satisfied: packaging>=21 in /usr/local/lib/python3.11/dist-packages (from scikit-image->-r requirements.txt (line 3)) (24.2)\n",
            "Requirement already satisfied: lazy-loader>=0.4 in /usr/local/lib/python3.11/dist-packages (from scikit-image->-r requirements.txt (line 3)) (0.4)\n",
            "Requirement already satisfied: contourpy>=1.0.1 in /usr/local/lib/python3.11/dist-packages (from matplotlib->-r requirements.txt (line 4)) (1.3.1)\n",
            "Requirement already satisfied: cycler>=0.10 in /usr/local/lib/python3.11/dist-packages (from matplotlib->-r requirements.txt (line 4)) (0.12.1)\n",
            "Requirement already satisfied: fonttools>=4.22.0 in /usr/local/lib/python3.11/dist-packages (from matplotlib->-r requirements.txt (line 4)) (4.55.3)\n",
            "Requirement already satisfied: kiwisolver>=1.3.1 in /usr/local/lib/python3.11/dist-packages (from matplotlib->-r requirements.txt (line 4)) (1.4.8)\n",
            "Requirement already satisfied: pyparsing>=2.3.1 in /usr/local/lib/python3.11/dist-packages (from matplotlib->-r requirements.txt (line 4)) (3.2.1)\n",
            "Requirement already satisfied: python-dateutil>=2.7 in /usr/local/lib/python3.11/dist-packages (from matplotlib->-r requirements.txt (line 4)) (2.8.2)\n",
            "Requirement already satisfied: six>=1.5 in /usr/local/lib/python3.11/dist-packages (from python-dateutil>=2.7->matplotlib->-r requirements.txt (line 4)) (1.17.0)\n",
            "Downloading pytictoc-1.5.3-py2.py3-none-any.whl (4.0 kB)\n",
            "Installing collected packages: pytictoc\n",
            "Successfully installed pytictoc-1.5.3\n"
          ]
        }
      ]
    },
    {
      "cell_type": "code",
      "source": [
        "import cv2\n",
        "import numpy as np\n",
        "\n",
        "from src.core import base, active_contour_snake, chan_vese_collision, watershed\n",
        "\n",
        "\"\"\"\n",
        "base:                   bfs_obj_collision, dfs_obj_collision\n",
        "chan_vese:              chan_vese\n",
        "watershed:              process_frame_watershed\n",
        "active_contour_snake:   active_contour_snake, collision_snake\n",
        "\"\"\""
      ],
      "metadata": {
        "id": "Zrq3n3Dd_xie",
        "colab": {
          "base_uri": "https://localhost:8080/",
          "height": 53
        },
        "outputId": "1ff667e4-f8cf-4544-8d47-b4f204f55528"
      },
      "execution_count": 4,
      "outputs": [
        {
          "output_type": "execute_result",
          "data": {
            "text/plain": [
              "'\\nbase:                   bfs_obj_collision, dfs_obj_collision\\nchan_vese:              chan_vese\\nwatershed:              process_frame_watershed\\nactive_contour_snake:   active_contour_snake, collision_snake\\n'"
            ],
            "application/vnd.google.colaboratory.intrinsic+json": {
              "type": "string"
            }
          },
          "metadata": {},
          "execution_count": 4
        }
      ]
    },
    {
      "cell_type": "code",
      "source": [
        "import cv2\n",
        "import pytictoc\n",
        "import numpy as np\n",
        "import pandas as pd\n",
        "def analyze_video(video_path):\n",
        "    cap = cv2.VideoCapture(video_path)\n",
        "    t = pytictoc.TicToc()\n",
        "    frame_count = [i for i in range(1, int(cap.get(cv2.CAP_PROP_FRAME_COUNT)) + 1)]\n",
        "    time_counts = []\n",
        "    collision_count = 0\n",
        "\n",
        "    t.tic()  # Bắt đầu tính thời gian\n",
        "\n",
        "    while True:\n",
        "        ret, frame = cap.read()\n",
        "        if not ret:\n",
        "            break\n",
        "\n",
        "        t_frame = pytictoc.TicToc()\n",
        "        t_frame.tic()\n",
        "        num_features = chan_vese_collision.chan_vese_collision(frame)\n",
        "        if num_features == 1 :\n",
        "            collision_count += 1\n",
        "            print(\"Va chạm tại frame:\", cap.get(cv2.CAP_PROP_POS_FRAMES))\n",
        "        time_counts.append(t_frame.tocvalue())\n",
        "\n",
        "        if cv2.waitKey(1) & 0xFF == ord('q'):\n",
        "            break\n",
        "\n",
        "    total_time = t.tocvalue()  # Kết thúc tính thời gian\n",
        "    avg_time_per_frame = np.mean(time_counts)\n",
        "\n",
        "    cap.release()\n",
        "    cv2.destroyAllWindows()\n",
        "\n",
        "    return total_time, time_counts, frame_count, avg_time_per_frame, collision_count"
      ],
      "metadata": {
        "id": "sLjL-txz8xVD"
      },
      "execution_count": 29,
      "outputs": []
    },
    {
      "cell_type": "markdown",
      "source": [
        "# Banh đen"
      ],
      "metadata": {
        "id": "vmgxBgqGeOaK"
      }
    },
    {
      "cell_type": "markdown",
      "source": [
        "## 2 trái"
      ],
      "metadata": {
        "id": "uULALJZneR23"
      }
    },
    {
      "cell_type": "code",
      "source": [
        "video_path = r'/content/object-collision/data/video/2black_ball.mp4'\n",
        "total_time, time_counts, frame_count, avg_time, collision_count = analyze_video(video_path)\n",
        "\n",
        "print('Tổng số frame:',len(frame_count))\n",
        "print(\"Thời gian chạy xong chương trình:\", total_time)\n",
        "# print(\"Mảng timecounts:\", timecounts)\n",
        "# print(\"Mảng framecount:\", framecount)\n",
        "print(\"Thời gian trung bình 1 frame:\", avg_time)\n",
        "print(\"Tổng số lần va chạm:\", collision_count)\n",
        "\n",
        "df = pd.DataFrame(columns = ['Frame', 'Time'], data = list(zip(frame_count, time_counts)))\n",
        "csv_path = video_path.split('/')[-1].split('.')[0]+'.csv'\n",
        "df.to_csv(csv_path)"
      ],
      "metadata": {
        "id": "ib0OalzQutV6",
        "outputId": "c4a72d2d-b615-40ca-fa31-e79577388011",
        "colab": {
          "base_uri": "https://localhost:8080/"
        }
      },
      "execution_count": 30,
      "outputs": [
        {
          "output_type": "stream",
          "name": "stdout",
          "text": [
            "Va chạm tại frame: 34.0\n",
            "Tổng số frame: 150\n",
            "Thời gian chạy xong chương trình: 103.9681809269996\n",
            "Thời gian trung bình 1 frame: 0.6917807389466907\n",
            "Tổng số lần va chạm: 1\n"
          ]
        }
      ]
    },
    {
      "cell_type": "markdown",
      "source": [
        "## 3 trái"
      ],
      "metadata": {
        "id": "I4SveKbxzRuF"
      }
    },
    {
      "cell_type": "code",
      "source": [
        "video_path = r'/content/object-collision/data/video/3black_ball.mp4'\n",
        "total_time, time_counts, frame_count, avg_time, collision_count = analyze_video(video_path)\n",
        "\n",
        "print('Tổng số frame:',len(frame_count))\n",
        "print(\"Thời gian chạy xong chương trình:\", total_time)\n",
        "# print(\"Mảng timecounts:\", timecounts)\n",
        "# print(\"Mảng framecount:\", framecount)\n",
        "print(\"Thời gian trung bình 1 frame:\", avg_time)\n",
        "print(\"Tổng số lần va chạm:\", collision_count)\n",
        "\n",
        "df = pd.DataFrame(columns = ['Frame', 'Time'], data = list(zip(frame_count, time_counts)))\n",
        "csv_path = video_path.split('/')[-1].split('.')[0]+'.csv'\n",
        "df.to_csv(csv_path)"
      ],
      "metadata": {
        "id": "s36AXLOShD6Y",
        "outputId": "779b8daf-10b4-43d1-d574-e26c9b5b06eb",
        "colab": {
          "base_uri": "https://localhost:8080/"
        }
      },
      "execution_count": 9,
      "outputs": [
        {
          "output_type": "stream",
          "name": "stdout",
          "text": [
            "Va chạm tại frame: 38.0\n",
            "Va chạm tại frame: 55.0\n",
            "Va chạm tại frame: 56.0\n",
            "Va chạm tại frame: 90.0\n",
            "Va chạm tại frame: 146.0\n",
            "Va chạm tại frame: 155.0\n",
            "Thời gian chạy xong chương trình: 60.09872966700004\n",
            "Thời gian trung bình 1 frame: 0.33315065309999076\n",
            "Tổng số lần va chạm: 6\n"
          ]
        }
      ]
    },
    {
      "cell_type": "markdown",
      "source": [
        "## 5 trái"
      ],
      "metadata": {
        "id": "kPcX6S5BzUeT"
      }
    },
    {
      "cell_type": "code",
      "source": [
        "video_path = r'/content/object-collision/data/video/5black_ball.mp4'\n",
        "total_time, time_counts, frame_count, avg_time, collision_count = analyze_video(video_path)\n",
        "\n",
        "print('Tổng số frame:',len(frame_count))\n",
        "print(\"Thời gian chạy xong chương trình:\", total_time)\n",
        "# print(\"Mảng timecounts:\", timecounts)\n",
        "# print(\"Mảng framecount:\", framecount)\n",
        "print(\"Thời gian trung bình 1 frame:\", avg_time)\n",
        "print(\"Tổng số lần va chạm:\", collision_count)\n",
        "\n",
        "df = pd.DataFrame(columns = ['Frame', 'Time'], data = list(zip(frame_count, time_counts)))\n",
        "csv_path = video_path.split('/')[-1].split('.')[0]+'.csv'\n",
        "df.to_csv(csv_path)"
      ],
      "metadata": {
        "id": "Vya5Gvp6j_Fv",
        "outputId": "c0c5ebb7-88ec-4ca7-f5d2-331fae273243",
        "colab": {
          "base_uri": "https://localhost:8080/"
        }
      },
      "execution_count": 27,
      "outputs": [
        {
          "output_type": "stream",
          "name": "stdout",
          "text": [
            "Va chạm tại frame: 1.0\n",
            "Va chạm tại frame: 2.0\n",
            "Va chạm tại frame: 3.0\n",
            "Va chạm tại frame: 4.0\n",
            "Va chạm tại frame: 5.0\n",
            "Va chạm tại frame: 6.0\n",
            "Va chạm tại frame: 7.0\n",
            "Va chạm tại frame: 8.0\n",
            "Va chạm tại frame: 9.0\n",
            "Va chạm tại frame: 10.0\n",
            "Va chạm tại frame: 11.0\n",
            "Va chạm tại frame: 12.0\n",
            "Va chạm tại frame: 13.0\n",
            "Va chạm tại frame: 14.0\n",
            "Va chạm tại frame: 15.0\n",
            "Va chạm tại frame: 16.0\n",
            "Va chạm tại frame: 17.0\n",
            "Va chạm tại frame: 18.0\n",
            "Va chạm tại frame: 19.0\n",
            "Va chạm tại frame: 20.0\n",
            "Va chạm tại frame: 21.0\n",
            "Va chạm tại frame: 22.0\n",
            "Va chạm tại frame: 23.0\n",
            "Va chạm tại frame: 24.0\n",
            "Va chạm tại frame: 28.0\n",
            "Va chạm tại frame: 30.0\n",
            "Va chạm tại frame: 32.0\n",
            "Va chạm tại frame: 33.0\n",
            "Va chạm tại frame: 34.0\n",
            "Va chạm tại frame: 35.0\n",
            "Va chạm tại frame: 36.0\n",
            "Va chạm tại frame: 37.0\n",
            "Va chạm tại frame: 40.0\n",
            "Va chạm tại frame: 51.0\n",
            "Va chạm tại frame: 67.0\n",
            "Va chạm tại frame: 72.0\n",
            "Va chạm tại frame: 73.0\n",
            "Va chạm tại frame: 75.0\n",
            "Va chạm tại frame: 87.0\n",
            "Va chạm tại frame: 88.0\n",
            "Va chạm tại frame: 92.0\n",
            "Va chạm tại frame: 94.0\n",
            "Va chạm tại frame: 95.0\n",
            "Va chạm tại frame: 117.0\n",
            "Va chạm tại frame: 120.0\n",
            "Va chạm tại frame: 125.0\n",
            "Va chạm tại frame: 141.0\n",
            "Va chạm tại frame: 142.0\n",
            "Va chạm tại frame: 159.0\n",
            "Va chạm tại frame: 162.0\n",
            "Va chạm tại frame: 165.0\n",
            "Va chạm tại frame: 166.0\n",
            "Va chạm tại frame: 167.0\n",
            "Va chạm tại frame: 168.0\n",
            "Va chạm tại frame: 170.0\n",
            "Va chạm tại frame: 171.0\n",
            "Va chạm tại frame: 173.0\n",
            "Va chạm tại frame: 174.0\n",
            "Va chạm tại frame: 175.0\n",
            "Va chạm tại frame: 178.0\n",
            "Va chạm tại frame: 179.0\n",
            "Tổng số frame: 180\n",
            "Thời gian chạy xong chương trình: 59.627723122000134\n",
            "Thời gian trung bình 1 frame: 0.3302793402722121\n",
            "Tổng số lần va chạm: 61\n"
          ]
        }
      ]
    },
    {
      "cell_type": "markdown",
      "source": [
        "# Có màu"
      ],
      "metadata": {
        "id": "37e4i-gMzWwl"
      }
    },
    {
      "cell_type": "markdown",
      "source": [
        "## 2 trái"
      ],
      "metadata": {
        "id": "PHMTSsQSzi_E"
      }
    },
    {
      "cell_type": "code",
      "source": [
        "video_path = r'/content/object-collision/data/video/2ball.mp4'\n",
        "total_time, time_counts, frame_count, avg_time, collision_count = analyze_video(video_path)\n",
        "\n",
        "print('Tổng số frame:',len(frame_count))\n",
        "print(\"Thời gian chạy xong chương trình:\", total_time)\n",
        "# print(\"Mảng timecounts:\", timecounts)\n",
        "# print(\"Mảng framecount:\", framecount)\n",
        "print(\"Thời gian trung bình 1 frame:\", avg_time)\n",
        "print(\"Tổng số lần va chạm:\", collision_count)\n",
        "\n",
        "df = pd.DataFrame(columns = ['Frame', 'Time'], data = list(zip(frame_count, time_counts)))\n",
        "csv_path = video_path.split('/')[-1].split('.')[0]+'.csv'\n",
        "df.to_csv(csv_path)"
      ],
      "metadata": {
        "id": "_WQkoiFZlU08",
        "outputId": "2b85cb4e-b6e1-42b9-9072-0aaa54d1bfdc",
        "colab": {
          "base_uri": "https://localhost:8080/"
        }
      },
      "execution_count": 17,
      "outputs": [
        {
          "output_type": "stream",
          "name": "stdout",
          "text": [
            "Va chạm tại frame: 4.0\n",
            "Va chạm tại frame: 15.0\n",
            "Va chạm tại frame: 18.0\n",
            "Va chạm tại frame: 21.0\n",
            "Va chạm tại frame: 33.0\n",
            "Va chạm tại frame: 54.0\n",
            "Va chạm tại frame: 59.0\n",
            "Va chạm tại frame: 64.0\n",
            "Va chạm tại frame: 75.0\n",
            "Va chạm tại frame: 86.0\n",
            "Va chạm tại frame: 87.0\n",
            "Va chạm tại frame: 88.0\n",
            "Va chạm tại frame: 91.0\n",
            "Va chạm tại frame: 92.0\n",
            "Va chạm tại frame: 95.0\n",
            "Va chạm tại frame: 96.0\n",
            "Va chạm tại frame: 97.0\n",
            "Va chạm tại frame: 100.0\n",
            "Va chạm tại frame: 108.0\n",
            "Va chạm tại frame: 109.0\n",
            "Va chạm tại frame: 112.0\n",
            "Va chạm tại frame: 113.0\n",
            "Va chạm tại frame: 116.0\n",
            "Va chạm tại frame: 121.0\n",
            "Va chạm tại frame: 122.0\n",
            "Va chạm tại frame: 124.0\n",
            "Va chạm tại frame: 125.0\n",
            "Va chạm tại frame: 128.0\n",
            "Va chạm tại frame: 129.0\n",
            "Va chạm tại frame: 130.0\n",
            "Va chạm tại frame: 133.0\n",
            "Va chạm tại frame: 134.0\n",
            "Va chạm tại frame: 137.0\n",
            "Va chạm tại frame: 138.0\n",
            "Va chạm tại frame: 143.0\n",
            "Va chạm tại frame: 146.0\n",
            "Va chạm tại frame: 151.0\n",
            "Va chạm tại frame: 154.0\n",
            "Va chạm tại frame: 155.0\n",
            "Va chạm tại frame: 162.0\n",
            "Va chạm tại frame: 163.0\n",
            "Va chạm tại frame: 167.0\n",
            "Va chạm tại frame: 168.0\n",
            "Va chạm tại frame: 170.0\n",
            "Va chạm tại frame: 172.0\n",
            "Va chạm tại frame: 175.0\n",
            "Va chạm tại frame: 176.0\n",
            "Va chạm tại frame: 180.0\n",
            "Tổng số frame: 180\n",
            "Thời gian chạy xong chương trình: 57.85360949599999\n",
            "Thời gian trung bình 1 frame: 0.3204186945889054\n",
            "Tổng số lần va chạm: 48\n"
          ]
        }
      ]
    },
    {
      "cell_type": "markdown",
      "source": [
        "## 3 trái"
      ],
      "metadata": {
        "id": "s2b-n6DFzlt8"
      }
    },
    {
      "cell_type": "code",
      "source": [
        "video_path = r'/content/object-collision/data/video/3ball.mp4'\n",
        "total_time, time_counts, frame_count, avg_time, collision_count = analyze_video(video_path)\n",
        "\n",
        "print('Tổng số frame:',len(frame_count))\n",
        "print(\"Thời gian chạy xong chương trình:\", total_time)\n",
        "# print(\"Mảng timecounts:\", timecounts)\n",
        "# print(\"Mảng framecount:\", framecount)\n",
        "print(\"Thời gian trung bình 1 frame:\", avg_time)\n",
        "print(\"Tổng số lần va chạm:\", collision_count)\n",
        "\n",
        "df = pd.DataFrame(columns = ['Frame', 'Time'], data = list(zip(frame_count, time_counts)))\n",
        "csv_path = video_path.split('/')[-1].split('.')[0]+'.csv'\n",
        "df.to_csv(csv_path)"
      ],
      "metadata": {
        "id": "0riYc9TEo-XC",
        "outputId": "73f01a67-9898-4718-b966-c2860a134d46",
        "colab": {
          "base_uri": "https://localhost:8080/"
        }
      },
      "execution_count": 22,
      "outputs": [
        {
          "output_type": "stream",
          "name": "stdout",
          "text": [
            "Va chạm tại frame: 39.0\n",
            "Va chạm tại frame: 82.0\n",
            "Va chạm tại frame: 140.0\n",
            "Va chạm tại frame: 141.0\n",
            "Tổng số frame: 180\n",
            "Thời gian chạy xong chương trình: 58.088903896000375\n",
            "Thời gian trung bình 1 frame: 0.32196585161667723\n",
            "Tổng số lần va chạm: 4\n"
          ]
        }
      ]
    },
    {
      "cell_type": "markdown",
      "source": [
        "## 5 trái"
      ],
      "metadata": {
        "id": "P2gsnTK0zoc0"
      }
    },
    {
      "cell_type": "code",
      "source": [
        "video_path = r'/content/object-collision/data/video/5ball.mp4'\n",
        "total_time, time_counts, frame_count, avg_time, collision_count = analyze_video(video_path)\n",
        "\n",
        "print('Tổng số frame:',len(frame_count))\n",
        "print(\"Thời gian chạy xong chương trình:\", total_time)\n",
        "# print(\"Mảng timecounts:\", timecounts)\n",
        "# print(\"Mảng framecount:\", framecount)\n",
        "print(\"Thời gian trung bình 1 frame:\", avg_time)\n",
        "print(\"Tổng số lần va chạm:\", collision_count)\n",
        "\n",
        "df = pd.DataFrame(columns = ['Frame', 'Time'], data = list(zip(frame_count, time_counts)))\n",
        "csv_path = video_path.split('/')[-1].split('.')[0]+'.csv'\n",
        "df.to_csv(csv_path)"
      ],
      "metadata": {
        "id": "ddkZDPdzqVx-",
        "outputId": "8027244e-003e-44ef-af00-bd780a9406f3",
        "colab": {
          "base_uri": "https://localhost:8080/"
        }
      },
      "execution_count": 26,
      "outputs": [
        {
          "output_type": "stream",
          "name": "stdout",
          "text": [
            "Va chạm tại frame: 2.0\n",
            "Va chạm tại frame: 3.0\n",
            "Va chạm tại frame: 4.0\n",
            "Va chạm tại frame: 5.0\n",
            "Va chạm tại frame: 6.0\n",
            "Va chạm tại frame: 7.0\n",
            "Va chạm tại frame: 8.0\n",
            "Va chạm tại frame: 9.0\n",
            "Va chạm tại frame: 10.0\n",
            "Va chạm tại frame: 11.0\n",
            "Va chạm tại frame: 26.0\n",
            "Va chạm tại frame: 34.0\n",
            "Va chạm tại frame: 35.0\n",
            "Va chạm tại frame: 48.0\n",
            "Va chạm tại frame: 49.0\n",
            "Va chạm tại frame: 58.0\n",
            "Va chạm tại frame: 61.0\n",
            "Va chạm tại frame: 85.0\n",
            "Va chạm tại frame: 134.0\n",
            "Va chạm tại frame: 135.0\n",
            "Va chạm tại frame: 144.0\n",
            "Va chạm tại frame: 145.0\n",
            "Va chạm tại frame: 150.0\n",
            "Tổng số frame: 180\n",
            "Thời gian chạy xong chương trình: 59.58152263900001\n",
            "Thời gian trung bình 1 frame: 0.3301709262721993\n",
            "Tổng số lần va chạm: 23\n"
          ]
        }
      ]
    }
  ]
}