{
  "nbformat": 4,
  "nbformat_minor": 0,
  "metadata": {
    "colab": {
      "provenance": [],
      "authorship_tag": "ABX9TyNJBDW3MqtFActn+7lCeEba",
      "include_colab_link": true
    },
    "kernelspec": {
      "name": "python3",
      "display_name": "Python 3"
    },
    "language_info": {
      "name": "python"
    }
  },
  "cells": [
    {
      "cell_type": "markdown",
      "metadata": {
        "id": "view-in-github",
        "colab_type": "text"
      },
      "source": [
        "<a href=\"https://colab.research.google.com/github/Sura3607/object-collision/blob/main/experiments/experiment.ipynb\" target=\"_parent\"><img src=\"https://colab.research.google.com/assets/colab-badge.svg\" alt=\"Open In Colab\"/></a>"
      ]
    },
    {
      "cell_type": "code",
      "execution_count": null,
      "metadata": {
        "id": "mpwd5xht9pUR"
      },
      "outputs": [],
      "source": [
        "%%capture\n",
        "!git clone https://github.com/Sura3607/object-collision.git"
      ]
    },
    {
      "cell_type": "code",
      "source": [
        "import os\n",
        "os.chdir('object-collision')"
      ],
      "metadata": {
        "id": "SJeXoPiu-3dx"
      },
      "execution_count": null,
      "outputs": []
    },
    {
      "cell_type": "code",
      "source": [
        "!pip3 install -r requirements.txt"
      ],
      "metadata": {
        "colab": {
          "base_uri": "https://localhost:8080/"
        },
        "id": "ZlnplSUf06da",
        "outputId": "101ba01b-0f83-4421-9b23-0d303a7b1d21"
      },
      "execution_count": null,
      "outputs": [
        {
          "output_type": "stream",
          "name": "stdout",
          "text": [
            "Requirement already satisfied: opencv-python in /usr/local/lib/python3.11/dist-packages (from -r requirements.txt (line 1)) (4.10.0.84)\n",
            "Requirement already satisfied: numpy in /usr/local/lib/python3.11/dist-packages (from -r requirements.txt (line 2)) (1.26.4)\n",
            "Requirement already satisfied: scikit-image in /usr/local/lib/python3.11/dist-packages (from -r requirements.txt (line 3)) (0.25.0)\n",
            "Requirement already satisfied: matplotlib in /usr/local/lib/python3.11/dist-packages (from -r requirements.txt (line 4)) (3.10.0)\n",
            "Collecting pytictoc (from -r requirements.txt (line 5))\n",
            "  Downloading pytictoc-1.5.3-py2.py3-none-any.whl.metadata (2.9 kB)\n",
            "Requirement already satisfied: scipy>=1.11.2 in /usr/local/lib/python3.11/dist-packages (from scikit-image->-r requirements.txt (line 3)) (1.13.1)\n",
            "Requirement already satisfied: networkx>=3.0 in /usr/local/lib/python3.11/dist-packages (from scikit-image->-r requirements.txt (line 3)) (3.4.2)\n",
            "Requirement already satisfied: pillow>=10.1 in /usr/local/lib/python3.11/dist-packages (from scikit-image->-r requirements.txt (line 3)) (11.1.0)\n",
            "Requirement already satisfied: imageio!=2.35.0,>=2.33 in /usr/local/lib/python3.11/dist-packages (from scikit-image->-r requirements.txt (line 3)) (2.36.1)\n",
            "Requirement already satisfied: tifffile>=2022.8.12 in /usr/local/lib/python3.11/dist-packages (from scikit-image->-r requirements.txt (line 3)) (2024.12.12)\n",
            "Requirement already satisfied: packaging>=21 in /usr/local/lib/python3.11/dist-packages (from scikit-image->-r requirements.txt (line 3)) (24.2)\n",
            "Requirement already satisfied: lazy-loader>=0.4 in /usr/local/lib/python3.11/dist-packages (from scikit-image->-r requirements.txt (line 3)) (0.4)\n",
            "Requirement already satisfied: contourpy>=1.0.1 in /usr/local/lib/python3.11/dist-packages (from matplotlib->-r requirements.txt (line 4)) (1.3.1)\n",
            "Requirement already satisfied: cycler>=0.10 in /usr/local/lib/python3.11/dist-packages (from matplotlib->-r requirements.txt (line 4)) (0.12.1)\n",
            "Requirement already satisfied: fonttools>=4.22.0 in /usr/local/lib/python3.11/dist-packages (from matplotlib->-r requirements.txt (line 4)) (4.55.3)\n",
            "Requirement already satisfied: kiwisolver>=1.3.1 in /usr/local/lib/python3.11/dist-packages (from matplotlib->-r requirements.txt (line 4)) (1.4.8)\n",
            "Requirement already satisfied: pyparsing>=2.3.1 in /usr/local/lib/python3.11/dist-packages (from matplotlib->-r requirements.txt (line 4)) (3.2.1)\n",
            "Requirement already satisfied: python-dateutil>=2.7 in /usr/local/lib/python3.11/dist-packages (from matplotlib->-r requirements.txt (line 4)) (2.8.2)\n",
            "Requirement already satisfied: six>=1.5 in /usr/local/lib/python3.11/dist-packages (from python-dateutil>=2.7->matplotlib->-r requirements.txt (line 4)) (1.17.0)\n",
            "Downloading pytictoc-1.5.3-py2.py3-none-any.whl (4.0 kB)\n",
            "Installing collected packages: pytictoc\n",
            "Successfully installed pytictoc-1.5.3\n"
          ]
        }
      ]
    },
    {
      "cell_type": "code",
      "source": [
        "import cv2\n",
        "import numpy as np\n",
        "\n",
        "from src.core import base, active_contour_snake, chan_vese_collision, watershed\n",
        "\n",
        "\"\"\"\n",
        "base:                   bfs_obj_collision, dfs_obj_collision\n",
        "chan_vese:              chan_vese\n",
        "watershed:              process_frame_watershed\n",
        "active_contour_snake:   active_contour_snake, collision_snake\n",
        "\"\"\""
      ],
      "metadata": {
        "id": "Zrq3n3Dd_xie",
        "colab": {
          "base_uri": "https://localhost:8080/",
          "height": 53
        },
        "outputId": "2208a30c-75c0-40ef-99d5-a241356a4a34"
      },
      "execution_count": null,
      "outputs": [
        {
          "output_type": "execute_result",
          "data": {
            "text/plain": [
              "'\\nbase:                   bfs_obj_collision, dfs_obj_collision\\nchan_vese:              chan_vese\\nwatershed:              process_frame_watershed\\nactive_contour_snake:   active_contour_snake, collision_snake\\n'"
            ],
            "application/vnd.google.colaboratory.intrinsic+json": {
              "type": "string"
            }
          },
          "metadata": {},
          "execution_count": 4
        }
      ]
    },
    {
      "cell_type": "code",
      "source": [
        "import cv2\n",
        "import numpy as np\n",
        "from skimage.segmentation import chan_vese\n",
        "from skimage.measure import label\n",
        "from google.colab.patches import cv2_imshow\n",
        "from google.colab import files\n",
        "import pytictoc\n",
        "# Đọc video\n",
        "\n",
        "cap = cv2.VideoCapture(r'/content/object-collision/data/video/video_white.mp4')\n",
        "t = pytictoc.TicToc()\n",
        "frame_count = [i for i in range(1,int(cap.get(cv2.CAP_PROP_FRAME_COUNT)+1))]\n",
        "time_counts = []\n",
        "while True:\n",
        "    ret, frame = cap.read()\n",
        "    if not ret:\n",
        "        break\n",
        "\n",
        "    t.tic()\n",
        "    markers, masks, centroids, radii = watershed.process_frame_watershed(frame)\n",
        "    snakes = active_contour_snake.active_contour_snake(frame, centroids, radii)\n",
        "    if (active_contour_snake.collision_snake(snakes, 1)):\n",
        "      print(\"Va chạm\")\n",
        "      print(cap.get(cv2.CAP_PROP_POS_FRAMES))\n",
        "    time_counts.append(t.tocvalue())\n",
        "\n",
        "    if cv2.waitKey(1) & 0xFF == ord('q'):\n",
        "        break\n",
        "\n",
        "cap.release()\n",
        "cv2.destroyAllWindows()\n"
      ],
      "metadata": {
        "id": "zX06-Hu6Afpb",
        "colab": {
          "base_uri": "https://localhost:8080/"
        },
        "outputId": "0dad23a5-ddab-4c24-d25e-a2d0318d456c"
      },
      "execution_count": null,
      "outputs": [
        {
          "output_type": "stream",
          "name": "stdout",
          "text": [
            "Va chạm\n",
            "98.0\n",
            "Va chạm\n",
            "188.0\n",
            "Va chạm\n",
            "190.0\n",
            "Va chạm\n",
            "191.0\n",
            "Va chạm\n",
            "237.0\n"
          ]
        }
      ]
    },
    {
      "cell_type": "code",
      "source": [
        "import pandas as pd\n",
        "df = pd.DataFrame(columns = ['Frame', 'Time'], data = list(zip(frame_count, time_counts)))\n",
        "df.to_csv('chan-vese video don sac 2 vat the.csv')"
      ],
      "metadata": {
        "id": "_cann-3UbJfU"
      },
      "execution_count": null,
      "outputs": []
    },
    {
      "cell_type": "code",
      "source": [
        "import matplotlib.pyplot as plt\n",
        "plt.plot(df['Frame'], df['Time'])\n",
        "plt.xlabel('Frame')\n",
        "plt.ylabel('Time')\n",
        "plt.show()"
      ],
      "metadata": {
        "colab": {
          "base_uri": "https://localhost:8080/",
          "height": 449
        },
        "id": "DeRcb3hkb30p",
        "outputId": "150dced1-2f6e-411c-a85d-e5cdf2ac30bc"
      },
      "execution_count": null,
      "outputs": [
        {
          "output_type": "display_data",
          "data": {
            "text/plain": [
              "<Figure size 640x480 with 1 Axes>"
            ],
            "image/png": "[encoded data removed]"
          },
          "metadata": {}
        }
      ]
    },
    {
      "cell_type": "code",
      "source": [
        "# Đọc video\n",
        "import pytictoc\n",
        "cap = cv2.VideoCapture(r'/content/object-collision/data/video/black_white_collision_02.mp4')\n",
        "t = pytictoc.TicToc()\n",
        "frame_count = [i for i in range(1,int(cap.get(cv2.CAP_PROP_FRAME_COUNT)+1))]\n",
        "time_counts = []\n",
        "print(frame_count)\n",
        "while True:\n",
        "    ret, frame = cap.read()\n",
        "    if not ret:\n",
        "        break\n",
        "    t.tic()\n",
        "    num_features = chan_vese_collision.chan_vese_collision(frame)\n",
        "    if (num_features == 1):\n",
        "      print(\"Va chạm\")\n",
        "      print(cap.get(cv2.CAP_PROP_POS_FRAMES))\n",
        "    time_counts.append(t.tocvalue())\n",
        "\n",
        "    if cv2.waitKey(1) & 0xFF == ord('q'):\n",
        "        break\n",
        "\n",
        "cap.release()\n",
        "cv2.destroyAllWindows()\n"
      ],
      "metadata": {
        "id": "2pFct3rmkjD7"
      },
      "execution_count": null,
      "outputs": []
    },
    {
      "cell_type": "code",
      "source": [
        "import cv2\n",
        "import numpy as np\n",
        "from skimage.segmentation import chan_vese\n",
        "from skimage.measure import label\n",
        "from google.colab.patches import cv2_imshow\n",
        "from google.colab import files\n",
        "import pytictoc\n",
        "# Đọc video\n",
        "\n",
        "cap = cv2.VideoCapture(r'/content/object-collision/data/video/video_black.mp4')\n",
        "t = pytictoc.TicToc()\n",
        "frame_count = int(cap.get(cv2.CAP_PROP_FRAME_COUNT))\n",
        "s = 0\n",
        "while True:\n",
        "    ret, frame = cap.read()\n",
        "    if not ret:\n",
        "        break\n",
        "\n",
        "    t.tic()\n",
        "    markers, masks, centroids, radii = watershed.process_frame_watershed(frame)\n",
        "    snakes = active_contour_snake.active_contour_snake(frame, centroids, radii)\n",
        "    if (active_contour_snake.collision_snake(snakes, 200)):\n",
        "      print(\"Va chạm\")\n",
        "      print(cap.get(cv2.CAP_PROP_POS_FRAMES))\n",
        "    else:\n",
        "      print(\"Không va chạm\")\n",
        "    cv2_imshow(frame)\n",
        "    s += t.tocvalue()\n",
        "    if cv2.waitKey(1) & 0xFF == ord('q'):\n",
        "        break\n",
        "\n",
        "cap.release()\n",
        "cv2.destroyAllWindows()\n",
        "\n",
        "print(s/frame_count)"
      ],
      "metadata": {
        "id": "sLjL-txz8xVD"
      },
      "execution_count": null,
      "outputs": []
    },
    {
      "cell_type": "code",
      "source": [
        "# Đọc video\n",
        "import pytictoc\n",
        "cap = cv2.VideoCapture(r'/content/object-collision/data/video/video_white.mp4')\n",
        "t = pytictoc.TicToc()\n",
        "frame_count = [i for i in range(1,int(cap.get(cv2.CAP_PROP_FRAME_COUNT)+1))]\n",
        "time_counts = []\n",
        "print(frame_count)\n",
        "while True:\n",
        "    ret, frame = cap.read()\n",
        "    if not ret:\n",
        "        break\n",
        "    t.tic()\n",
        "    num_features = chan_vese_collision.chan_vese_collision(frame)\n",
        "    if (num_features == 1 or num_features == 2):\n",
        "      print(\"Va chạm\")\n",
        "      print(cap.get(cv2.CAP_PROP_POS_FRAMES))\n",
        "    time_counts.append(t.tocvalue())\n",
        "\n",
        "    if cv2.waitKey(1) & 0xFF == ord('q'):\n",
        "        break\n",
        "\n",
        "cap.release()\n",
        "cv2.destroyAllWindows()\n"
      ],
      "metadata": {
        "colab": {
          "base_uri": "https://localhost:8080/"
        },
        "id": "-jwWpWKz90Ix",
        "outputId": "a6047a49-efd6-42c8-86f6-65e802196aef"
      },
      "execution_count": null,
      "outputs": [
        {
          "output_type": "stream",
          "name": "stdout",
          "text": [
            "[1, 2, 3, 4, 5, 6, 7, 8, 9, 10, 11, 12, 13, 14, 15, 16, 17, 18, 19, 20, 21, 22, 23, 24, 25, 26, 27, 28, 29, 30, 31, 32, 33, 34, 35, 36, 37, 38, 39, 40, 41, 42, 43, 44, 45, 46, 47, 48, 49, 50, 51, 52, 53, 54, 55, 56, 57, 58, 59, 60, 61, 62, 63, 64, 65, 66, 67, 68, 69, 70, 71, 72, 73, 74, 75, 76, 77, 78, 79, 80, 81, 82, 83, 84, 85, 86, 87, 88, 89, 90, 91, 92, 93, 94, 95, 96, 97, 98, 99, 100, 101, 102, 103, 104, 105, 106, 107, 108, 109, 110, 111, 112, 113, 114, 115, 116, 117, 118, 119, 120, 121, 122, 123, 124, 125, 126, 127, 128, 129, 130, 131, 132, 133, 134, 135, 136, 137, 138, 139, 140, 141, 142, 143, 144, 145, 146, 147, 148, 149, 150, 151, 152, 153, 154, 155, 156, 157, 158, 159, 160, 161, 162, 163, 164, 165, 166, 167, 168, 169, 170, 171, 172, 173, 174, 175, 176, 177, 178, 179, 180, 181, 182, 183, 184, 185, 186, 187, 188, 189, 190, 191, 192, 193, 194, 195, 196, 197, 198, 199, 200, 201, 202, 203, 204, 205, 206, 207, 208, 209, 210, 211, 212, 213, 214, 215, 216, 217, 218, 219, 220, 221, 222, 223, 224, 225, 226, 227, 228, 229, 230, 231, 232, 233, 234, 235, 236, 237, 238, 239, 240, 241, 242, 243, 244, 245, 246]\n",
            "Va chạm\n",
            "98.0\n",
            "Va chạm\n",
            "190.0\n"
          ]
        }
      ]
    }
  ]
}