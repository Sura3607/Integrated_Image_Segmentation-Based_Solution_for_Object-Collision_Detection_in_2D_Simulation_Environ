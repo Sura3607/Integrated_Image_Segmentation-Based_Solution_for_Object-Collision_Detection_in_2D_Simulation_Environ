{
  "cells": [
    {
      "cell_type": "markdown",
      "metadata": {
        "colab_type": "text",
        "id": "view-in-github"
      },
      "source": [
        "<a href=\"https://colab.research.google.com/github/trongjhuongwr/object-collision/blob/main/experiments/experiment.ipynb\" target=\"_parent\"><img src=\"https://colab.research.google.com/assets/colab-badge.svg\" alt=\"Open In Colab\"/></a>"
      ]
    },
    {
      "cell_type": "code",
      "execution_count": 1,
      "metadata": {
        "id": "mpwd5xht9pUR"
      },
      "outputs": [],
      "source": [
        "%%capture\n",
        "!git clone https://github.com/Sura3607/object-collision.git"
      ]
    },
    {
      "cell_type": "code",
      "execution_count": 2,
      "metadata": {
        "id": "SJeXoPiu-3dx"
      },
      "outputs": [],
      "source": [
        "import os\n",
        "os.chdir('object-collision')"
      ]
    },
    {
      "cell_type": "code",
      "execution_count": 3,
      "metadata": {
        "colab": {
          "base_uri": "https://localhost:8080/"
        },
        "id": "ZlnplSUf06da",
        "outputId": "56a25a48-7871-4bf4-b260-6df7957e3ea1"
      },
      "outputs": [
        {
          "name": "stdout",
          "output_type": "stream",
          "text": [
            "Requirement already satisfied: opencv-python in /usr/local/lib/python3.11/dist-packages (from -r requirements.txt (line 1)) (4.10.0.84)\n",
            "Requirement already satisfied: numpy in /usr/local/lib/python3.11/dist-packages (from -r requirements.txt (line 2)) (1.26.4)\n",
            "Requirement already satisfied: scikit-image in /usr/local/lib/python3.11/dist-packages (from -r requirements.txt (line 3)) (0.25.0)\n",
            "Requirement already satisfied: matplotlib in /usr/local/lib/python3.11/dist-packages (from -r requirements.txt (line 4)) (3.10.0)\n",
            "Requirement already satisfied: pytictoc in /usr/local/lib/python3.11/dist-packages (from -r requirements.txt (line 5)) (1.5.3)\n",
            "Requirement already satisfied: scipy>=1.11.2 in /usr/local/lib/python3.11/dist-packages (from scikit-image->-r requirements.txt (line 3)) (1.13.1)\n",
            "Requirement already satisfied: networkx>=3.0 in /usr/local/lib/python3.11/dist-packages (from scikit-image->-r requirements.txt (line 3)) (3.4.2)\n",
            "Requirement already satisfied: pillow>=10.1 in /usr/local/lib/python3.11/dist-packages (from scikit-image->-r requirements.txt (line 3)) (11.1.0)\n",
            "Requirement already satisfied: imageio!=2.35.0,>=2.33 in /usr/local/lib/python3.11/dist-packages (from scikit-image->-r requirements.txt (line 3)) (2.36.1)\n",
            "Requirement already satisfied: tifffile>=2022.8.12 in /usr/local/lib/python3.11/dist-packages (from scikit-image->-r requirements.txt (line 3)) (2024.12.12)\n",
            "Requirement already satisfied: packaging>=21 in /usr/local/lib/python3.11/dist-packages (from scikit-image->-r requirements.txt (line 3)) (24.2)\n",
            "Requirement already satisfied: lazy-loader>=0.4 in /usr/local/lib/python3.11/dist-packages (from scikit-image->-r requirements.txt (line 3)) (0.4)\n",
            "Requirement already satisfied: contourpy>=1.0.1 in /usr/local/lib/python3.11/dist-packages (from matplotlib->-r requirements.txt (line 4)) (1.3.1)\n",
            "Requirement already satisfied: cycler>=0.10 in /usr/local/lib/python3.11/dist-packages (from matplotlib->-r requirements.txt (line 4)) (0.12.1)\n",
            "Requirement already satisfied: fonttools>=4.22.0 in /usr/local/lib/python3.11/dist-packages (from matplotlib->-r requirements.txt (line 4)) (4.55.3)\n",
            "Requirement already satisfied: kiwisolver>=1.3.1 in /usr/local/lib/python3.11/dist-packages (from matplotlib->-r requirements.txt (line 4)) (1.4.8)\n",
            "Requirement already satisfied: pyparsing>=2.3.1 in /usr/local/lib/python3.11/dist-packages (from matplotlib->-r requirements.txt (line 4)) (3.2.1)\n",
            "Requirement already satisfied: python-dateutil>=2.7 in /usr/local/lib/python3.11/dist-packages (from matplotlib->-r requirements.txt (line 4)) (2.8.2)\n",
            "Requirement already satisfied: six>=1.5 in /usr/local/lib/python3.11/dist-packages (from python-dateutil>=2.7->matplotlib->-r requirements.txt (line 4)) (1.17.0)\n"
          ]
        }
      ],
      "source": [
        "!pip3 install -r requirements.txt"
      ]
    },
    {
      "cell_type": "code",
      "execution_count": 4,
      "metadata": {
        "colab": {
          "base_uri": "https://localhost:8080/",
          "height": 54
        },
        "id": "Zrq3n3Dd_xie",
        "outputId": "4c5396d2-ebdf-4f81-b6f0-0cdb69acbbc3"
      },
      "outputs": [
        {
          "data": {
            "application/vnd.google.colaboratory.intrinsic+json": {
              "type": "string"
            },
            "text/plain": [
              "'\\nbase:                   bfs_obj_collision, dfs_obj_collision\\nchan_vese:              chan_vese\\nwatershed:              process_frame_watershed\\nactive_contour_snake:   active_contour_snake, collision_snake\\n'"
            ]
          },
          "execution_count": 4,
          "metadata": {},
          "output_type": "execute_result"
        }
      ],
      "source": [
        "import cv2\n",
        "import numpy as np\n",
        "\n",
        "from src.core import base, active_contour_snake, chan_vese_collision, watershed\n",
        "\n",
        "\"\"\"\n",
        "base:                   bfs_obj_collision, dfs_obj_collision\n",
        "chan_vese:              chan_vese\n",
        "watershed:              process_frame_watershed\n",
        "active_contour_snake:   active_contour_snake, collision_snake\n",
        "\"\"\""
      ]
    },
    {
      "cell_type": "markdown",
      "metadata": {
        "id": "92dJAsO02F-U"
      },
      "source": [
        "## Chan-Vese Model"
      ]
    },
    {
      "cell_type": "code",
      "execution_count": 5,
      "metadata": {
        "id": "sLjL-txz8xVD"
      },
      "outputs": [],
      "source": [
        "import cv2\n",
        "import pytictoc\n",
        "import numpy as np\n",
        "import pandas as pd\n",
        "def analyze_video(video_path):\n",
        "    cap = cv2.VideoCapture(video_path)\n",
        "    t = pytictoc.TicToc()\n",
        "    frame_count = [i for i in range(1, int(cap.get(cv2.CAP_PROP_FRAME_COUNT)) + 1)]\n",
        "    time_counts = []\n",
        "    collision_count = 0\n",
        "\n",
        "    t.tic()  # Bắt đầu tính thời gian\n",
        "\n",
        "    while True:\n",
        "        ret, frame = cap.read()\n",
        "        if not ret:\n",
        "            break\n",
        "\n",
        "        t_frame = pytictoc.TicToc()\n",
        "        t_frame.tic()\n",
        "        num_features = chan_vese_collision.chan_vese_collision(frame)\n",
        "        if num_features == 1 :\n",
        "            collision_count += 1\n",
        "            print(\"Va chạm tại frame:\", cap.get(cv2.CAP_PROP_POS_FRAMES))\n",
        "        time_counts.append(t_frame.tocvalue())\n",
        "\n",
        "        if cv2.waitKey(1) & 0xFF == ord('q'):\n",
        "            break\n",
        "\n",
        "    total_time = t.tocvalue()  # Kết thúc tính thời gian\n",
        "    avg_time_per_frame = np.mean(time_counts)\n",
        "\n",
        "    cap.release()\n",
        "    cv2.destroyAllWindows()\n",
        "\n",
        "    return total_time, time_counts, frame_count, avg_time_per_frame, collision_count"
      ]
    },
    {
      "cell_type": "markdown",
      "metadata": {
        "id": "19kRpGIX2Lnl"
      },
      "source": [
        "## Watershed + Active Contour Snake"
      ]
    },
    {
      "cell_type": "code",
      "execution_count": 6,
      "metadata": {
        "id": "LmhNn4GylU9t"
      },
      "outputs": [],
      "source": [
        "import cv2\n",
        "import pytictoc\n",
        "import numpy as np\n",
        "import pandas as pd\n",
        "#from skimage.segmentation import active_contour\n",
        "from skimage.filters import gaussian\n",
        "#from active_contour_model import process_frame_watershed, apply_active_contour\n",
        "\n",
        "def WatershedACS(video_path):\n",
        "    cap = cv2.VideoCapture(video_path)\n",
        "    t = pytictoc.TicToc()\n",
        "    frame_count = [i for i in range(1, int(cap.get(cv2.CAP_PROP_FRAME_COUNT)) + 1)]\n",
        "    time_counts = []\n",
        "    collision_count = 0\n",
        "    threshold = 4  # Ngưỡng khoảng cách để phát hiện va chạm\n",
        "\n",
        "    t.tic()  # Bắt đầu tính thời gian\n",
        "\n",
        "    while True:\n",
        "        ret, frame = cap.read()\n",
        "        if not ret:\n",
        "            break\n",
        "\n",
        "        t_frame = pytictoc.TicToc()\n",
        "        t_frame.tic()\n",
        "\n",
        "        # Xử lý frame\n",
        "        markers, masks, centroids, radii = watershed.process_frame_watershed(frame)\n",
        "\n",
        "        # # Chuyển frame sang ảnh xám và làm mịn\n",
        "        # gray = cv2.cvtColor(frame, cv2.COLOR_BGR2GRAY)\n",
        "        # image = gaussian(gray, sigma=2)\n",
        "\n",
        "        # Áp dụng active contour snake\n",
        "        snakes = active_contour_snake.active_contour_snake(frame, centroids, radii)\n",
        "\n",
        "        # Kiểm tra va chạm\n",
        "        if active_contour_snake.collision_snake(snakes, threshold):\n",
        "            collision_count += 1\n",
        "            print(\"Va chạm tại frame:\", cap.get(cv2.CAP_PROP_POS_FRAMES))\n",
        "\n",
        "        time_counts.append(t_frame.tocvalue())\n",
        "\n",
        "        if cv2.waitKey(1) & 0xFF == ord('q'):\n",
        "            break\n",
        "\n",
        "    total_time = t.tocvalue()  # Kết thúc tính thời gian\n",
        "    avg_time_per_frame = np.mean(time_counts)\n",
        "\n",
        "    cap.release()\n",
        "    cv2.destroyAllWindows()\n",
        "\n",
        "    return total_time, time_counts, frame_count, avg_time_per_frame, collision_count"
      ]
    },
    {
      "cell_type": "markdown",
      "metadata": {
        "id": "vmgxBgqGeOaK"
      },
      "source": [
        "# Banh đen"
      ]
    },
    {
      "cell_type": "markdown",
      "metadata": {
        "id": "uULALJZneR23"
      },
      "source": [
        "## 2 trái"
      ]
    },
    {
      "cell_type": "markdown",
      "metadata": {
        "id": "4gKkZepQ17_0"
      },
      "source": []
    },
    {
      "cell_type": "code",
      "execution_count": null,
      "metadata": {
        "id": "ib0OalzQutV6"
      },
      "outputs": [],
      "source": [
        "video_path = r'/content/object-collision/data/video/2black_ball.mp4'\n",
        "total_time, time_counts, frame_count, avg_time, collision_count = analyze_video(video_path)\n",
        "\n",
        "print('Tổng số frame:',len(frame_count))\n",
        "print(\"Thời gian chạy xong chương trình:\", total_time)\n",
        "# print(\"Mảng timecounts:\", timecounts)\n",
        "# print(\"Mảng framecount:\", framecount)\n",
        "print(\"Thời gian trung bình 1 frame:\", avg_time)\n",
        "print(\"Tổng số lần va chạm:\", collision_count)\n",
        "\n",
        "df = pd.DataFrame(columns = ['Frame', 'Time'], data = list(zip(frame_count, time_counts)))\n",
        "csv_path = video_path.split('/')[-1].split('.')[0]+'.csv'\n",
        "df.to_csv(csv_path)"
      ]
    },
    {
      "cell_type": "code",
      "execution_count": null,
      "metadata": {
        "id": "2dMKYWFjlYqz"
      },
      "outputs": [],
      "source": [
        "video_path = r'/content/object-collision/data/video/2black_ball.mp4'\n",
        "total_time, time_counts, frame_count, avg_time, collision_count = WatershedACS(video_path)\n",
        "\n",
        "print('Tổng số frame:',len(frame_count))\n",
        "print(\"Thời gian chạy xong chương trình:\", total_time)\n",
        "# print(\"Mảng timecounts:\", timecounts)\n",
        "# print(\"Mảng framecount:\", framecount)\n",
        "print(\"Thời gian trung bình 1 frame:\", avg_time)\n",
        "print(\"Tổng số lần va chạm:\", collision_count)\n",
        "\n",
        "df = pd.DataFrame(columns = ['Frame', 'Time'], data = list(zip(frame_count, time_counts)))\n",
        "csv_path = video_path.split('/')[-1].split('.')[0]+'.csv'\n",
        "df.to_csv(csv_path)"
      ]
    },
    {
      "cell_type": "markdown",
      "metadata": {
        "id": "I4SveKbxzRuF"
      },
      "source": [
        "## 3 trái"
      ]
    },
    {
      "cell_type": "code",
      "execution_count": null,
      "metadata": {
        "id": "s36AXLOShD6Y"
      },
      "outputs": [],
      "source": [
        "video_path = r'/content/object-collision/data/video/3black_ball.mp4'\n",
        "total_time, time_counts, frame_count, avg_time, collision_count = analyze_video(video_path)\n",
        "\n",
        "print('Tổng số frame:',len(frame_count))\n",
        "print(\"Thời gian chạy xong chương trình:\", total_time)\n",
        "# print(\"Mảng timecounts:\", timecounts)\n",
        "# print(\"Mảng framecount:\", framecount)\n",
        "print(\"Thời gian trung bình 1 frame:\", avg_time)\n",
        "print(\"Tổng số lần va chạm:\", collision_count)\n",
        "\n",
        "df = pd.DataFrame(columns = ['Frame', 'Time'], data = list(zip(frame_count, time_counts)))\n",
        "csv_path = video_path.split('/')[-1].split('.')[0]+'.csv'\n",
        "df.to_csv(csv_path)"
      ]
    },
    {
      "cell_type": "code",
      "execution_count": null,
      "metadata": {
        "id": "CLsIWn2E2UjN"
      },
      "outputs": [],
      "source": [
        "video_path = r'/content/object-collision/data/video/3black_ball.mp4'\n",
        "total_time, time_counts, frame_count, avg_time, collision_count = WatershedACS(video_path)\n",
        "\n",
        "print('Tổng số frame:',len(frame_count))\n",
        "print(\"Thời gian chạy xong chương trình:\", total_time)\n",
        "# print(\"Mảng timecounts:\", timecounts)\n",
        "# print(\"Mảng framecount:\", framecount)\n",
        "print(\"Thời gian trung bình 1 frame:\", avg_time)\n",
        "print(\"Tổng số lần va chạm:\", collision_count)\n",
        "\n",
        "df = pd.DataFrame(columns = ['Frame', 'Time'], data = list(zip(frame_count, time_counts)))\n",
        "csv_path = video_path.split('/')[-1].split('.')[0]+'.csv'\n",
        "df.to_csv(csv_path)"
      ]
    },
    {
      "cell_type": "markdown",
      "metadata": {
        "id": "kPcX6S5BzUeT"
      },
      "source": [
        "## 5 trái"
      ]
    },
    {
      "cell_type": "code",
      "execution_count": null,
      "metadata": {
        "id": "Vya5Gvp6j_Fv"
      },
      "outputs": [],
      "source": [
        "video_path = r'/content/object-collision/data/video/5black_ball.mp4'\n",
        "total_time, time_counts, frame_count, avg_time, collision_count = analyze_video(video_path)\n",
        "\n",
        "print('Tổng số frame:',len(frame_count))\n",
        "print(\"Thời gian chạy xong chương trình:\", total_time)\n",
        "# print(\"Mảng timecounts:\", timecounts)\n",
        "# print(\"Mảng framecount:\", framecount)\n",
        "print(\"Thời gian trung bình 1 frame:\", avg_time)\n",
        "print(\"Tổng số lần va chạm:\", collision_count)\n",
        "\n",
        "df = pd.DataFrame(columns = ['Frame', 'Time'], data = list(zip(frame_count, time_counts)))\n",
        "csv_path = video_path.split('/')[-1].split('.')[0]+'.csv'\n",
        "df.to_csv(csv_path)"
      ]
    },
    {
      "cell_type": "code",
      "execution_count": null,
      "metadata": {
        "id": "V32ro1q-5MhL"
      },
      "outputs": [],
      "source": [
        "video_path = r'/content/object-collision/data/video/5black_ball.mp4'\n",
        "total_time, time_counts, frame_count, avg_time, collision_count = WatershedACS(video_path)\n",
        "\n",
        "print('Tổng số frame:',len(frame_count))\n",
        "print(\"Thời gian chạy xong chương trình:\", total_time)\n",
        "# print(\"Mảng timecounts:\", timecounts)\n",
        "# print(\"Mảng framecount:\", framecount)\n",
        "print(\"Thời gian trung bình 1 frame:\", avg_time)\n",
        "print(\"Tổng số lần va chạm:\", collision_count)\n",
        "\n",
        "df = pd.DataFrame(columns = ['Frame', 'Time'], data = list(zip(frame_count, time_counts)))\n",
        "csv_path = video_path.split('/')[-1].split('.')[0]+'.csv'\n",
        "df.to_csv(csv_path)"
      ]
    },
    {
      "cell_type": "markdown",
      "metadata": {
        "id": "37e4i-gMzWwl"
      },
      "source": [
        "# Có màu"
      ]
    },
    {
      "cell_type": "markdown",
      "metadata": {
        "id": "PHMTSsQSzi_E"
      },
      "source": [
        "## 2 trái"
      ]
    },
    {
      "cell_type": "code",
      "execution_count": null,
      "metadata": {
        "id": "_WQkoiFZlU08"
      },
      "outputs": [],
      "source": [
        "video_path = r'/content/object-collision/data/video/2ball.mp4'\n",
        "total_time, time_counts, frame_count, avg_time, collision_count = analyze_video(video_path)\n",
        "\n",
        "print('Tổng số frame:',len(frame_count))\n",
        "print(\"Thời gian chạy xong chương trình:\", total_time)\n",
        "# print(\"Mảng timecounts:\", timecounts)\n",
        "# print(\"Mảng framecount:\", framecount)\n",
        "print(\"Thời gian trung bình 1 frame:\", avg_time)\n",
        "print(\"Tổng số lần va chạm:\", collision_count)\n",
        "\n",
        "df = pd.DataFrame(columns = ['Frame', 'Time'], data = list(zip(frame_count, time_counts)))\n",
        "csv_path = video_path.split('/')[-1].split('.')[0]+'.csv'\n",
        "df.to_csv(csv_path)"
      ]
    },
    {
      "cell_type": "code",
      "execution_count": null,
      "metadata": {
        "id": "PkKFosjJ5ZeY"
      },
      "outputs": [],
      "source": [
        "video_path = r'/content/object-collision/data/video/2ball.mp4'\n",
        "total_time, time_counts, frame_count, avg_time, collision_count = WatershedACS(video_path)\n",
        "\n",
        "print('Tổng số frame:',len(frame_count))\n",
        "print(\"Thời gian chạy xong chương trình:\", total_time)\n",
        "# print(\"Mảng timecounts:\", timecounts)\n",
        "# print(\"Mảng framecount:\", framecount)\n",
        "print(\"Thời gian trung bình 1 frame:\", avg_time)\n",
        "print(\"Tổng số lần va chạm:\", collision_count)\n",
        "\n",
        "df = pd.DataFrame(columns = ['Frame', 'Time'], data = list(zip(frame_count, time_counts)))\n",
        "csv_path = video_path.split('/')[-1].split('.')[0]+'.csv'\n",
        "df.to_csv(csv_path)"
      ]
    },
    {
      "cell_type": "markdown",
      "metadata": {
        "id": "s2b-n6DFzlt8"
      },
      "source": [
        "## 3 trái"
      ]
    },
    {
      "cell_type": "code",
      "execution_count": null,
      "metadata": {
        "id": "0riYc9TEo-XC"
      },
      "outputs": [],
      "source": [
        "video_path = r'/content/object-collision/data/video/3ball.mp4'\n",
        "total_time, time_counts, frame_count, avg_time, collision_count = analyze_video(video_path)\n",
        "\n",
        "print('Tổng số frame:',len(frame_count))\n",
        "print(\"Thời gian chạy xong chương trình:\", total_time)\n",
        "# print(\"Mảng timecounts:\", timecounts)\n",
        "# print(\"Mảng framecount:\", framecount)\n",
        "print(\"Thời gian trung bình 1 frame:\", avg_time)\n",
        "print(\"Tổng số lần va chạm:\", collision_count)\n",
        "\n",
        "df = pd.DataFrame(columns = ['Frame', 'Time'], data = list(zip(frame_count, time_counts)))\n",
        "csv_path = video_path.split('/')[-1].split('.')[0]+'.csv'\n",
        "df.to_csv(csv_path)"
      ]
    },
    {
      "cell_type": "code",
      "execution_count": null,
      "metadata": {
        "id": "STMAftxJ5guE"
      },
      "outputs": [],
      "source": [
        "video_path = r'/content/object-collision/data/video/3ball.mp4'\n",
        "total_time, time_counts, frame_count, avg_time, collision_count = WatershedACS(video_path)\n",
        "\n",
        "print('Tổng số frame:',len(frame_count))\n",
        "print(\"Thời gian chạy xong chương trình:\", total_time)\n",
        "# print(\"Mảng timecounts:\", timecounts)\n",
        "# print(\"Mảng framecount:\", framecount)\n",
        "print(\"Thời gian trung bình 1 frame:\", avg_time)\n",
        "print(\"Tổng số lần va chạm:\", collision_count)\n",
        "\n",
        "df = pd.DataFrame(columns = ['Frame', 'Time'], data = list(zip(frame_count, time_counts)))\n",
        "csv_path = video_path.split('/')[-1].split('.')[0]+'.csv'\n",
        "df.to_csv(csv_path)"
      ]
    },
    {
      "cell_type": "markdown",
      "metadata": {
        "id": "P2gsnTK0zoc0"
      },
      "source": [
        "## 5 trái"
      ]
    },
    {
      "cell_type": "code",
      "execution_count": null,
      "metadata": {
        "id": "ddkZDPdzqVx-"
      },
      "outputs": [],
      "source": [
        "video_path = r'/content/object-collision/data/video/5ball.mp4'\n",
        "total_time, time_counts, frame_count, avg_time, collision_count = analyze_video(video_path)\n",
        "\n",
        "print('Tổng số frame:',len(frame_count))\n",
        "print(\"Thời gian chạy xong chương trình:\", total_time)\n",
        "# print(\"Mảng timecounts:\", timecounts)\n",
        "# print(\"Mảng framecount:\", framecount)\n",
        "print(\"Thời gian trung bình 1 frame:\", avg_time)\n",
        "print(\"Tổng số lần va chạm:\", collision_count)\n",
        "\n",
        "df = pd.DataFrame(columns = ['Frame', 'Time'], data = list(zip(frame_count, time_counts)))\n",
        "csv_path = video_path.split('/')[-1].split('.')[0]+'.csv'\n",
        "df.to_csv(csv_path)"
      ]
    },
    {
      "cell_type": "code",
      "execution_count": null,
      "metadata": {
        "id": "l1O7iuUR5mD1"
      },
      "outputs": [],
      "source": [
        "video_path = r'/content/object-collision/data/video/5ball.mp4'\n",
        "total_time, time_counts, frame_count, avg_time, collision_count = WatershedACS(video_path)\n",
        "\n",
        "print('Tổng số frame:',len(frame_count))\n",
        "print(\"Thời gian chạy xong chương trình:\", total_time)\n",
        "# print(\"Mảng timecounts:\", timecounts)\n",
        "# print(\"Mảng framecount:\", framecount)\n",
        "print(\"Thời gian trung bình 1 frame:\", avg_time)\n",
        "print(\"Tổng số lần va chạm:\", collision_count)\n",
        "\n",
        "df = pd.DataFrame(columns = ['Frame', 'Time'], data = list(zip(frame_count, time_counts)))\n",
        "csv_path = video_path.split('/')[-1].split('.')[0]+'.csv'\n",
        "df.to_csv(csv_path)"
      ]
    }
  ],
  "metadata": {
    "colab": {
      "include_colab_link": true,
      "provenance": [],
      "toc_visible": true
    },
    "kernelspec": {
      "display_name": "Python 3",
      "name": "python3"
    },
    "language_info": {
      "name": "python",
      "version": "3.13.1"
    }
  },
  "nbformat": 4,
  "nbformat_minor": 0
}
