{
 "cells": [
  {
   "cell_type": "code",
   "execution_count": 1,
   "metadata": {},
   "outputs": [],
   "source": [
    "from active_contour_model import *"
   ]
  },
  {
   "cell_type": "code",
   "execution_count": null,
   "metadata": {},
   "outputs": [],
   "source": [
    "img = cv2.imread(\"D:\\Study\\object-collision\\Active_Contour_Snake\\Item\\object.png\")\n",
    "img = cv2.resize(img, None, fx=0.9, fy=0.9)\n",
    "# cv2.imshow(\"image test\", img)\n",
    "# cv2.waitKey(0)\n",
    "# cv2.destroyAllWindows()\n",
    "\n",
    "img_rgb = cv2.cvtColor(img, cv2.COLOR_BGR2RGB)\n",
    "\n",
    "plt.imshow(img_rgb)\n",
    "plt.title('Image_test')\n",
    "plt.axis('off')"
   ]
  },
  {
   "cell_type": "code",
   "execution_count": 3,
   "metadata": {},
   "outputs": [],
   "source": [
    "gray = cv2.cvtColor(img_rgb, cv2.COLOR_RGB2GRAY)\n",
    "ret, binary = cv2.threshold(gray, 0, 255, cv2.THRESH_BINARY + cv2.THRESH_OTSU)\n",
    "contours, hierarchy = cv2.findContours(binary, mode= cv2.RETR_LIST, method= cv2.CHAIN_APPROX_TC89_KCOS)"
   ]
  },
  {
   "cell_type": "code",
   "execution_count": null,
   "metadata": {},
   "outputs": [],
   "source": [
    "print(contours)"
   ]
  },
  {
   "cell_type": "code",
   "execution_count": 5,
   "metadata": {},
   "outputs": [],
   "source": [
    "image_copy = img.copy()\n",
    "image_copy = cv2.drawContours(image_copy, contours, -1, (0, 255, 0), thickness= 5, lineType = cv2.LINE_AA)"
   ]
  },
  {
   "cell_type": "code",
   "execution_count": null,
   "metadata": {},
   "outputs": [],
   "source": [
    "plt.figure(figsize=(12, 12))\n",
    "plt.subplot(1,3,1); plt.imshow(gray, cmap= \"gray\");plt.title('Grayscale Image');plt.axis('off')\n",
    "plt.subplot(1,3,2); plt.imshow(binary, cmap= \"gray\");plt.title('Binary Image');plt.axis('off')\n",
    "plt.subplot(1,3,3); plt.imshow(image_copy, cmap= \"gray\");plt.title('Drawn Contours');plt.axis('off')"
   ]
  },
  {
   "cell_type": "code",
   "execution_count": 7,
   "metadata": {},
   "outputs": [],
   "source": [
    "video_path = r\"D:\\Study\\object-collision\\Active_Contour_Snake\\Item\\Object collision - Made with Clipchamp.mp4\""
   ]
  },
  {
   "cell_type": "code",
   "execution_count": 8,
   "metadata": {},
   "outputs": [
    {
     "name": "stdout",
     "output_type": "stream",
     "text": [
      "30.0\n"
     ]
    }
   ],
   "source": [
    "cap = cv2.VideoCapture(video_path)\n",
    "fps = cap.get(cv2.CAP_PROP_FPS)\n",
    "print(fps)"
   ]
  },
  {
   "cell_type": "code",
   "execution_count": 9,
   "metadata": {},
   "outputs": [],
   "source": [
    "cv2.imshow(\"Binary Image\", binary)\n",
    "cv2.waitKey(0)\n",
    "cv2.destroyAllWindows()"
   ]
  },
  {
   "cell_type": "code",
   "execution_count": 10,
   "metadata": {},
   "outputs": [
    {
     "name": "stdout",
     "output_type": "stream",
     "text": [
      "Elapsed time is 0.005955 seconds.\n",
      "Processed 129 frames.\n",
      "Output video saved to Output_video.mp4\n"
     ]
    }
   ],
   "source": [
    "output_path = r\"Output_video.mp4\"\n",
    "\n",
    "fps = int(cap.get(cv2.CAP_PROP_FPS))\n",
    "width = int(cap.get(cv2.CAP_PROP_FRAME_WIDTH))\n",
    "height = int(cap.get(cv2.CAP_PROP_FRAME_HEIGHT))\n",
    "frame_size = (width, height)\n",
    "\n",
    "fourcc = cv2.VideoWriter_fourcc(*'mp4v')\n",
    "out = cv2.VideoWriter(output_path, fourcc, fps, frame_size)\n",
    "\n",
    "t = TicToc()\n",
    "frame_count = 0\n",
    "\n",
    "while cap.isOpened():\n",
    "    ret, frame = cap.read()\n",
    "    if not ret:\n",
    "        break\n",
    "\n",
    "    frame_count += 1\n",
    "    t.tic()\n",
    "\n",
    "    gray = cv2.cvtColor(frame, cv2.COLOR_BGR2GRAY)\n",
    "    ret, binary = cv2.threshold(gray, 100, 255, cv2.THRESH_BINARY + cv2.THRESH_OTSU)\n",
    "    contours, hierarchy = cv2.findContours(binary, cv2.RETR_LIST, cv2.CHAIN_APPROX_TC89_KCOS)\n",
    "\n",
    "    cv2.drawContours(frame, contours, -1, (0, 255, 0), 5)\n",
    "\n",
    "    out.write(frame)\n",
    "\n",
    "    #cv2.imshow(\"Contours frame\", frame)\n",
    "\n",
    "    if cv2.waitKey(0) != -1:\n",
    "        break\n",
    "t.toc()\n",
    "cap.release()\n",
    "out.release()\n",
    "cv2.destroyAllWindows()\n",
    "\n",
    "print(f\"Processed {frame_count} frames.\")\n",
    "print(f\"Output video saved to {output_path}\")"
   ]
  },
  {
   "cell_type": "markdown",
   "metadata": {},
   "source": [
    "***LỖI VIDEO***"
   ]
  },
  {
   "cell_type": "code",
   "execution_count": 12,
   "metadata": {},
   "outputs": [
    {
     "name": "stdout",
     "output_type": "stream",
     "text": [
      "Frame 1: Min Distance = 571.1357106677887\n",
      "Frame 2: Min Distance = 571.1357106677887\n",
      "Frame 3: Min Distance = 571.1357106677887\n",
      "Frame 4: Min Distance = 571.1357106677887\n",
      "Frame 5: Min Distance = 571.1357106677887\n",
      "Frame 6: Min Distance = 571.1357106677887\n",
      "Frame 7: Min Distance = 571.1357106677887\n",
      "Frame 8: Min Distance = 571.1357106677887\n",
      "Frame 9: Min Distance = 571.1357106677887\n",
      "Frame 10: Min Distance = 571.1357106677887\n",
      "Frame 11: Min Distance = 571.1357106677887\n",
      "Frame 12: Min Distance = 571.1357106677887\n",
      "Frame 13: Min Distance = 571.1357106677887\n",
      "Frame 14: Min Distance = 571.1357106677887\n",
      "Frame 15: Min Distance = 520.0038461396223\n",
      "Frame 16: Min Distance = 520.0038461396223\n",
      "Frame 17: Min Distance = 506.0088932024812\n",
      "Frame 18: Min Distance = 492.0091462564492\n",
      "Frame 19: Min Distance = 478.0167361086848\n",
      "Frame 20: Min Distance = 464.02693887316497\n",
      "Frame 21: Min Distance = 450.0277769204919\n",
      "Frame 22: Min Distance = 450.0277769204919\n",
      "Frame 23: Min Distance = 435.0735569992734\n",
      "Frame 24: Min Distance = 421.0760026408534\n",
      "Frame 25: Min Distance = 407.04422364160877\n",
      "Frame 26: Min Distance = 393.01145021487605\n",
      "Frame 27: Min Distance = 379.00131925891765\n",
      "Frame 28: Min Distance = 379.00131925891765\n",
      "Frame 29: Min Distance = 365.0013698604431\n",
      "Frame 30: Min Distance = 351.00142449853394\n",
      "Collision detected at frame: 30\n",
      "Collision occurred at frame 30 (1.00 seconds).\n"
     ]
    }
   ],
   "source": [
    "from scipy.spatial import cKDTree\n",
    "\n",
    "def calculate_contour_distance(contour1, contour2):\n",
    "    \"\"\"Tính khoảng cách nhỏ nhất giữa hai contours bằng KD-Tree.\"\"\"\n",
    "    points1 = np.squeeze(contour1)  # Loại bỏ chiều không cần thiết\n",
    "    points2 = np.squeeze(contour2)\n",
    "    \n",
    "    if len(points1.shape) == 1:\n",
    "        points1 = points1[np.newaxis, :]\n",
    "    if len(points2.shape) == 1:\n",
    "        points2 = points2[np.newaxis, :]\n",
    "    \n",
    "    tree = cKDTree(points2)\n",
    "    distances, _ = tree.query(points1, k=1)\n",
    "    return distances.min()\n",
    "\n",
    "video_path = r\"D:\\Study\\OpenCV_Tomi\\object collision\\Item\\Object collision - Made with Clipchamp.mp4\"\n",
    "cap = cv2.VideoCapture(video_path)\n",
    "output_path = r\"Output_video.mp4\"\n",
    "\n",
    "fps = int(cap.get(cv2.CAP_PROP_FPS))\n",
    "width = int(cap.get(cv2.CAP_PROP_FRAME_WIDTH))\n",
    "height = int(cap.get(cv2.CAP_PROP_FRAME_HEIGHT))\n",
    "frame_size = (width, height)\n",
    "\n",
    "# Khởi tạo video writer\n",
    "fourcc = cv2.VideoWriter_fourcc(*'mp4v')  # Codec cho video\n",
    "out = cv2.VideoWriter(output_path, fourcc, fps, frame_size)\n",
    "\n",
    "frame_count = 0\n",
    "collision_frame = -1  # Khung hình xảy ra va chạm\n",
    "collision_threshold = 355  # Ngưỡng va chạm theo pixel\n",
    "\n",
    "t = TicToc()\n",
    "\n",
    "while cap.isOpened():\n",
    "    ret, frame = cap.read()\n",
    "    if not ret:\n",
    "        break\n",
    "\n",
    "    frame_count += 1\n",
    "    t.tic()\n",
    "\n",
    "    gray = cv2.cvtColor(frame, cv2.COLOR_BGR2GRAY)\n",
    "    ret, binary = cv2.threshold(gray, 100, 255, cv2.THRESH_BINARY + cv2.THRESH_OTSU)\n",
    "    contours, hierarchy = cv2.findContours(binary, cv2.RETR_LIST, cv2.CHAIN_APPROX_TC89_KCOS)\n",
    "\n",
    "    if len(contours) >= 2:\n",
    "        contours = sorted(contours, key=cv2.contourArea, reverse=True)[:2]\n",
    "        contour1, contour2 = contours\n",
    "\n",
    "    min_distance = calculate_contour_distance(contour1, contour2)\n",
    "    print(f\"Frame {frame_count}: Min Distance = {min_distance}\")\n",
    "\n",
    "    # Kiểm tra va chạm\n",
    "    if min_distance <= collision_threshold:\n",
    "        collision_frame = frame_count\n",
    "        print(f\"Collision detected at frame: {collision_frame}\")\n",
    "        break\n",
    "\n",
    "    # Vẽ contours trên frame\n",
    "    cv2.drawContours(frame, [contour1], -1, (0, 255, 0), 5)\n",
    "    cv2.drawContours(frame, [contour2], -1, (0, 0, 255), 5)\n",
    "else:\n",
    "    print(f\"Frame {frame_count}: Not enough contours detected\")\n",
    "    out.write(frame)\n",
    "\n",
    "cap.release()\n",
    "out.release()\n",
    "\n",
    "# In kết quả\n",
    "if collision_frame != -1:\n",
    "    collision_time = collision_frame / fps\n",
    "    print(f\"Collision occurred at frame {collision_frame} ({collision_time:.2f} seconds).\")\n",
    "else:\n",
    "    print(\"No collision detected.\")"
   ]
  },
  {
   "cell_type": "markdown",
   "metadata": {},
   "source": [
    "***LỖI DRAW CONTOURS --> KHÔNG XÁC ĐỊNH ĐƯỢC DETECT --> VẪN TÍNH ĐƯỢC ELAPSED TIME CHƯA PHẢI TIME CHẠM NHAU***"
   ]
  },
  {
   "cell_type": "code",
   "execution_count": 13,
   "metadata": {},
   "outputs": [
    {
     "name": "stdout",
     "output_type": "stream",
     "text": [
      "Elapsed time is 0.000200 seconds.\n",
      "No collision detected.\n"
     ]
    }
   ],
   "source": [
    "output_path = r\"Output_video.mp4\"\n",
    "\n",
    "fps = int(cap.get(cv2.CAP_PROP_FPS))\n",
    "width = int(cap.get(cv2.CAP_PROP_FRAME_WIDTH))\n",
    "height = int(cap.get(cv2.CAP_PROP_FRAME_HEIGHT))\n",
    "frame_size = (width, height)\n",
    "\n",
    "fourcc = cv2.VideoWriter_fourcc(*'mp4v')\n",
    "out = cv2.VideoWriter(output_path, fourcc, fps, frame_size)\n",
    "\n",
    "t = TicToc()\n",
    "frame_count = 0\n",
    "collision_frame = -1\n",
    "collision_threshold = 10  # Ngưỡng va chạm theo pixel\n",
    "\n",
    "t.tic()\n",
    "\n",
    "while cap.isOpened():\n",
    "    ret, frame = cap.read()\n",
    "    if not ret:\n",
    "        break\n",
    "\n",
    "    frame_count += 1\n",
    "    contours = preprocess_frame(frame)\n",
    "    # gray = cv2.cvtColor(frame, cv2.COLOR_BGR2GRAY)\n",
    "    # ret, binary = cv2.threshold(gray, 100, 255, cv2.THRESH_BINARY + cv2.THRESH_OTSU)\n",
    "    # contours, hierarchy = cv2.findContours(binary, cv2.RETR_LIST, cv2.CHAIN_APPROX_TC89_KCOS)\n",
    "\n",
    "    if len(contours) >= 2:\n",
    "        # Lấy hai contours lớn nhất\n",
    "        contours = sorted(contours, key=cv2.contourArea, reverse=True)[:2]\n",
    "        centroid1 = calculate_centroid(contours[0])\n",
    "        centroid2 = calculate_centroid(contours[1])\n",
    "\n",
    "        if detect_collision(centroid1, centroid2, radius1=0, radius2=0):\n",
    "            collision_frame = frame_count\n",
    "            print(f\"Collision detected at frame {collision_frame} ({collision_frame / fps:.2f} seconds).\")\n",
    "            break\n",
    "\n",
    "        cv2.drawContours(frame, [contours[0]], -1, (0, 255, 0), 2)\n",
    "        cv2.drawContours(frame, [contours[1]], -1, (0, 0, 255), 2)\n",
    "        if centroid1:\n",
    "            cv2.circle(frame, centroid1, 5, (255, 0, 0), -1)\n",
    "        if centroid2:\n",
    "            cv2.circle(frame, centroid2, 5, (0, 255, 255), -1)\n",
    "\n",
    "    out.write(frame)\n",
    "\n",
    "cap.release()\n",
    "out.release()\n",
    "\n",
    "t.toc()\n",
    "cv2.destroyAllWindows()\n",
    "\n",
    "# In thông tin va chạm\n",
    "if collision_frame != -1:\n",
    "    print(f\"Collision detected at frame {collision_frame} ({collision_frame / fps:.2f} seconds).\")\n",
    "else:\n",
    "    print(\"No collision detected.\")"
   ]
  }
 ],
 "metadata": {
  "kernelspec": {
   "display_name": "Python 3",
   "language": "python",
   "name": "python3"
  },
  "language_info": {
   "codemirror_mode": {
    "name": "ipython",
    "version": 3
   },
   "file_extension": ".py",
   "mimetype": "text/x-python",
   "name": "python",
   "nbconvert_exporter": "python",
   "pygments_lexer": "ipython3",
   "version": "3.12.8"
  }
 },
 "nbformat": 4,
 "nbformat_minor": 2
}
