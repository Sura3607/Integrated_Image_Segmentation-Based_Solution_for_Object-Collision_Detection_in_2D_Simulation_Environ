{
 "cells": [
  {
   "cell_type": "code",
   "execution_count": 59,
   "metadata": {},
   "outputs": [],
   "source": [
    "from active_contour_model import *"
   ]
  },
  {
   "cell_type": "code",
   "execution_count": 60,
   "metadata": {},
   "outputs": [
    {
     "name": "stdout",
     "output_type": "stream",
     "text": [
      "Collision detected at frame 0 (0.00 seconds)\n",
      "Collision detected at frame 101 (3.37 seconds)\n",
      "Collision detected at frame 102 (3.40 seconds)\n",
      "Collision detected at frame 103 (3.43 seconds)\n",
      "Collision detected at frame 104 (3.47 seconds)\n",
      "Collision detected at frame 105 (3.50 seconds)\n",
      "Collision detected at frame 106 (3.53 seconds)\n",
      "Collision detected at frame 107 (3.57 seconds)\n",
      "Collision detected at frame 108 (3.60 seconds)\n",
      "Collision detected at frame 109 (3.63 seconds)\n",
      "Collision detected at frame 110 (3.67 seconds)\n",
      "Collision detected at frame 111 (3.70 seconds)\n",
      "Collision detected at frame 112 (3.73 seconds)\n",
      "Collision detected at frame 113 (3.77 seconds)\n",
      "Elapsed time is 0.422579 seconds.\n",
      "Processed 150 frames. Output saved to Output_video_active_contour.mp4.\n"
     ]
    },
    {
     "data": {
      "image/png": "[encoded data removed]",
      "text/plain": [
       "<Figure size 640x480 with 1 Axes>"
      ]
     },
     "metadata": {},
     "output_type": "display_data"
    }
   ],
   "source": [
    "if __name__ == \"__main__\":\n",
    "    video_path = r\"D:\\Study\\object-collision\\Active_Contour_Snake\\Item\\Video2D_object_collsion.mp4\"\n",
    "    output_path = r\"Output_video_active_contour.mp4\"\n",
    "    check_collision_active_contour_video(video_path, output_path)\n",
    "\n",
    "    def process_single_image(image_path):\n",
    "        frame = cv2.imread(image_path)\n",
    "        gray = cv2.cvtColor(frame, cv2.COLOR_BGR2GRAY)\n",
    "        ret, binary = cv2.threshold(gray, 147, 255, cv2.THRESH_BINARY)\n",
    "        contours, hierachy = cv2.findContours(binary, cv2.RETR_LIST, cv2.CHAIN_APPROX_SIMPLE)\n",
    "    \n",
    "        # Loại bỏ các contour có diện tích lớn hơn ngưỡng\n",
    "        max_area = 0.5 * frame.shape[0] * frame.shape[1]\n",
    "        filtered_contours = [contour for contour in contours if cv2.contourArea(contour) < max_area]\n",
    "    \n",
    "        # Tạo ảnh kết quả\n",
    "        result_img = frame.copy()\n",
    "        for contour in filtered_contours:  # Chỉ vẽ contour đã lọc\n",
    "            cv2.drawContours(result_img, [contour], -1, (0, 255, 0), 10)\n",
    "\n",
    "        plt.imshow(cv2.cvtColor(result_img, cv2.COLOR_BGR2RGB))\n",
    "        plt.title(\"Image with Contours\")\n",
    "        plt.axis(\"off\")\n",
    "        plt.show()\n",
    "\n",
    "    #image_path = r\"D:\\Study\\object-collision\\Active_Contour_Snake\\Item\\image4.png\"\n",
    "    image_path = r\"D:\\Study\\object-collision\\Active_Contour_Snake\\Item\\image1.png\"\n",
    "    process_single_image(image_path)\n"
   ]
  }
 ],
 "metadata": {
  "kernelspec": {
   "display_name": "Python 3",
   "language": "python",
   "name": "python3"
  },
  "language_info": {
   "codemirror_mode": {
    "name": "ipython",
    "version": 3
   },
   "file_extension": ".py",
   "mimetype": "text/x-python",
   "name": "python",
   "nbconvert_exporter": "python",
   "pygments_lexer": "ipython3",
   "version": "3.12.8"
  }
 },
 "nbformat": 4,
 "nbformat_minor": 2
}
