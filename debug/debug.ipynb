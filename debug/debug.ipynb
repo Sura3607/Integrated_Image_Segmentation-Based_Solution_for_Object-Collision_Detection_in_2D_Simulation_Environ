{
 "cells": [
  {
   "cell_type": "code",
   "execution_count": null,
   "metadata": {},
   "outputs": [],
   "source": [
    "import cv2\n",
    "import pytictoc\n",
    "import numpy as np\n",
    "import sys\n",
    "import os\n",
    "\n",
    "# Thêm thư mục gốc (chứa 'src') vào sys.path\n",
    "current_dir = os.path.dirname(os.path.abspath(\"object-collision\"))\n",
    "root_dir = os.path.abspath(os.path.join(current_dir, \"..\"))  # Nếu đang ở trong \"debug\"\n",
    "sys.path.append(root_dir)\n",
    "from src.core import base, active_contour_snake, chan_vese_collision, watershed"
   ]
  },
  {
   "cell_type": "code",
   "execution_count": 33,
   "metadata": {},
   "outputs": [],
   "source": [
    "def WatershedACS(video_path, output_dir):\n",
    "    cap = cv2.VideoCapture(video_path)\n",
    "    t = pytictoc.TicToc()\n",
    "    collision_count = 0\n",
    "    threshold = 0.5  # Ngưỡng khoảng cách để phát hiện va chạm\n",
    "\n",
    "    # Tạo thư mục lưu frame va chạm nếu chưa tồn tại\n",
    "    if not os.path.exists(output_dir):\n",
    "        os.makedirs(output_dir)\n",
    "\n",
    "    t.tic()  # Bắt đầu tính thời gian\n",
    "\n",
    "    while True:\n",
    "        ret, frame = cap.read()\n",
    "        if not ret:\n",
    "            break\n",
    "\n",
    "        t_frame = pytictoc.TicToc()\n",
    "        t_frame.tic()\n",
    "\n",
    "        # Xử lý frame\n",
    "        markers, masks, centroids, radii = watershed.process_frame_watershed(frame)\n",
    "\n",
    "        # Áp dụng active contour snake\n",
    "        snakes = active_contour_snake.active_contour_snake(frame, centroids, radii)\n",
    "\n",
    "        # Kiểm tra va chạm\n",
    "        if active_contour_snake.collision_snake(snakes, threshold):\n",
    "            collision_count += 1\n",
    "            frame_number = int(cap.get(cv2.CAP_PROP_POS_FRAMES))\n",
    "            print(\"Va chạm tại frame:\", frame_number)\n",
    "\n",
    "            # Lưu frame vào thư mục\n",
    "            collision_frame_path = os.path.join(output_dir, f\"frame_{frame_number}.png\")\n",
    "            cv2.imwrite(collision_frame_path, frame)\n",
    "\n",
    "        if cv2.waitKey(1) & 0xFF == ord('q'):\n",
    "            break\n",
    "\n",
    "    total_time = t.tocvalue()  # Kết thúc tính thời gian\n",
    "\n",
    "    cap.release()\n",
    "    cv2.destroyAllWindows()\n",
    "\n",
    "    return total_time, collision_count\n"
   ]
  },
  {
   "cell_type": "code",
   "execution_count": 34,
   "metadata": {},
   "outputs": [
    {
     "name": "stdout",
     "output_type": "stream",
     "text": [
      "Va chạm tại frame: 2\n",
      "Va chạm tại frame: 3\n",
      "Va chạm tại frame: 4\n",
      "Va chạm tại frame: 6\n",
      "Va chạm tại frame: 7\n",
      "Va chạm tại frame: 8\n",
      "Va chạm tại frame: 9\n",
      "Va chạm tại frame: 10\n",
      "Va chạm tại frame: 14\n",
      "Va chạm tại frame: 20\n",
      "Va chạm tại frame: 21\n",
      "Va chạm tại frame: 22\n",
      "Va chạm tại frame: 25\n",
      "Va chạm tại frame: 26\n",
      "Va chạm tại frame: 28\n",
      "Va chạm tại frame: 29\n",
      "Va chạm tại frame: 31\n",
      "Va chạm tại frame: 34\n",
      "Va chạm tại frame: 35\n",
      "Va chạm tại frame: 38\n",
      "Va chạm tại frame: 48\n",
      "Va chạm tại frame: 52\n",
      "Va chạm tại frame: 58\n",
      "Va chạm tại frame: 61\n",
      "Va chạm tại frame: 66\n",
      "Va chạm tại frame: 83\n",
      "Va chạm tại frame: 85\n",
      "Va chạm tại frame: 92\n",
      "Va chạm tại frame: 93\n"
     ]
    },
    {
     "ename": "KeyboardInterrupt",
     "evalue": "",
     "output_type": "error",
     "traceback": [
      "\u001b[1;31m---------------------------------------------------------------------------\u001b[0m",
      "\u001b[1;31mKeyboardInterrupt\u001b[0m                         Traceback (most recent call last)",
      "Cell \u001b[1;32mIn[34], line 1\u001b[0m\n\u001b[1;32m----> 1\u001b[0m \u001b[43mWatershedACS\u001b[49m\u001b[43m(\u001b[49m\u001b[38;5;124;43mr\u001b[39;49m\u001b[38;5;124;43m\"\u001b[39;49m\u001b[38;5;124;43mD:\u001b[39;49m\u001b[38;5;124;43m\\\u001b[39;49m\u001b[38;5;124;43mProject_Management\u001b[39;49m\u001b[38;5;124;43m\\\u001b[39;49m\u001b[38;5;124;43mobject-collision\u001b[39;49m\u001b[38;5;124;43m\\\u001b[39;49m\u001b[38;5;124;43mdata\u001b[39;49m\u001b[38;5;124;43m\\\u001b[39;49m\u001b[38;5;124;43mvideo\u001b[39;49m\u001b[38;5;124;43m\\\u001b[39;49m\u001b[38;5;124;43m5ball.mp4\u001b[39;49m\u001b[38;5;124;43m\"\u001b[39;49m\u001b[43m,\u001b[49m\u001b[38;5;124;43mr\u001b[39;49m\u001b[38;5;124;43m\"\u001b[39;49m\u001b[38;5;124;43mD:\u001b[39;49m\u001b[38;5;124;43m\\\u001b[39;49m\u001b[38;5;124;43mProject_Management\u001b[39;49m\u001b[38;5;124;43m\\\u001b[39;49m\u001b[38;5;124;43mobject-collision\u001b[39;49m\u001b[38;5;124;43m\\\u001b[39;49m\u001b[38;5;124;43mdebug\u001b[39;49m\u001b[38;5;124;43m\\\u001b[39;49m\u001b[38;5;124;43mW_ACN_debug\u001b[39;49m\u001b[38;5;124;43m\"\u001b[39;49m\u001b[43m)\u001b[49m\n",
      "Cell \u001b[1;32mIn[33], line 40\u001b[0m, in \u001b[0;36mWatershedACS\u001b[1;34m(video_path, output_dir)\u001b[0m\n\u001b[0;32m     37\u001b[0m snakes \u001b[38;5;241m=\u001b[39m active_contour_snake\u001b[38;5;241m.\u001b[39mactive_contour_snake(frame, centroids, radii)\n\u001b[0;32m     39\u001b[0m \u001b[38;5;66;03m# Kiểm tra va chạm\u001b[39;00m\n\u001b[1;32m---> 40\u001b[0m \u001b[38;5;28;01mif\u001b[39;00m \u001b[43mactive_contour_snake\u001b[49m\u001b[38;5;241;43m.\u001b[39;49m\u001b[43mcollision_snake\u001b[49m\u001b[43m(\u001b[49m\u001b[43msnakes\u001b[49m\u001b[43m,\u001b[49m\u001b[43m \u001b[49m\u001b[43mthreshold\u001b[49m\u001b[43m)\u001b[49m:\n\u001b[0;32m     41\u001b[0m     collision_count \u001b[38;5;241m+\u001b[39m\u001b[38;5;241m=\u001b[39m \u001b[38;5;241m1\u001b[39m\n\u001b[0;32m     42\u001b[0m     frame_number \u001b[38;5;241m=\u001b[39m \u001b[38;5;28mint\u001b[39m(cap\u001b[38;5;241m.\u001b[39mget(cv2\u001b[38;5;241m.\u001b[39mCAP_PROP_POS_FRAMES))\n",
      "File \u001b[1;32md:\\Project_Management\\object-collision\\src\\core\\active_contour_snake.py:35\u001b[0m, in \u001b[0;36mcollision_snake\u001b[1;34m(snakes, threshold)\u001b[0m\n\u001b[0;32m     33\u001b[0m \u001b[38;5;28;01mfor\u001b[39;00m point_i \u001b[38;5;129;01min\u001b[39;00m snakes[i]:\n\u001b[0;32m     34\u001b[0m     \u001b[38;5;28;01mfor\u001b[39;00m point_j \u001b[38;5;129;01min\u001b[39;00m snakes[j]:\n\u001b[1;32m---> 35\u001b[0m         dist \u001b[38;5;241m=\u001b[39m \u001b[43mnp\u001b[49m\u001b[38;5;241;43m.\u001b[39;49m\u001b[43mlinalg\u001b[49m\u001b[38;5;241;43m.\u001b[39;49m\u001b[43mnorm\u001b[49m\u001b[43m(\u001b[49m\u001b[43mpoint_i\u001b[49m\u001b[43m \u001b[49m\u001b[38;5;241;43m-\u001b[39;49m\u001b[43m \u001b[49m\u001b[43mpoint_j\u001b[49m\u001b[43m)\u001b[49m\n\u001b[0;32m     36\u001b[0m         \u001b[38;5;28;01mif\u001b[39;00m dist \u001b[38;5;241m<\u001b[39m min_distance:\n\u001b[0;32m     37\u001b[0m             min_distance \u001b[38;5;241m=\u001b[39m dist\n",
      "File \u001b[1;32mc:\\Users\\ASUS\\AppData\\Local\\Programs\\Python\\Python312\\Lib\\site-packages\\numpy\\linalg\\linalg.py:2552\u001b[0m, in \u001b[0;36mnorm\u001b[1;34m(x, ord, axis, keepdims)\u001b[0m\n\u001b[0;32m   2550\u001b[0m     sqnorm \u001b[38;5;241m=\u001b[39m x_real\u001b[38;5;241m.\u001b[39mdot(x_real) \u001b[38;5;241m+\u001b[39m x_imag\u001b[38;5;241m.\u001b[39mdot(x_imag)\n\u001b[0;32m   2551\u001b[0m \u001b[38;5;28;01melse\u001b[39;00m:\n\u001b[1;32m-> 2552\u001b[0m     sqnorm \u001b[38;5;241m=\u001b[39m \u001b[43mx\u001b[49m\u001b[38;5;241;43m.\u001b[39;49m\u001b[43mdot\u001b[49m\u001b[43m(\u001b[49m\u001b[43mx\u001b[49m\u001b[43m)\u001b[49m\n\u001b[0;32m   2553\u001b[0m ret \u001b[38;5;241m=\u001b[39m sqrt(sqnorm)\n\u001b[0;32m   2554\u001b[0m \u001b[38;5;28;01mif\u001b[39;00m keepdims:\n",
      "\u001b[1;31mKeyboardInterrupt\u001b[0m: "
     ]
    }
   ],
   "source": [
    "WatershedACS(r\"D:\\Project_Management\\object-collision\\data\\video\\5ball.mp4\",r\"D:\\Project_Management\\object-collision\\debug\\W_ACN_debug\")"
   ]
  }
 ],
 "metadata": {
  "kernelspec": {
   "display_name": "Python 3",
   "language": "python",
   "name": "python3"
  },
  "language_info": {
   "codemirror_mode": {
    "name": "ipython",
    "version": 3
   },
   "file_extension": ".py",
   "mimetype": "text/x-python",
   "name": "python",
   "nbconvert_exporter": "python",
   "pygments_lexer": "ipython3",
   "version": "3.12.4"
  }
 },
 "nbformat": 4,
 "nbformat_minor": 2
}
